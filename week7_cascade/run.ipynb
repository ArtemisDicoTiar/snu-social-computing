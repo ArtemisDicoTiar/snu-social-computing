{
 "cells": [
  {
   "cell_type": "code",
   "execution_count": 1,
   "metadata": {
    "pycharm": {
     "is_executing": true
    },
    "scrolled": false
   },
   "outputs": [],
   "source": [
    "import os\n",
    "import sys\n",
    "import matplotlib.pyplot as plt\n",
    "import numpy as np\n",
    "import pandas as pd\n",
    "from scipy.integrate import odeint\n",
    "import plotly.graph_objects as go\n",
    "import plotly.io as pio\n",
    "\n",
    "# Import the necessaries libraries\n",
    "import plotly.offline as pyo\n",
    "# Set notebook mode to work in offline\n",
    "pyo.init_notebook_mode()\n",
    "\n",
    "pio.renderers.default = \"notebook\"\n",
    "%matplotlib inline\n",
    "plt.style.use('ggplot')"
   ]
  },
  {
   "cell_type": "code",
   "execution_count": 2,
   "metadata": {
    "pycharm": {
     "is_executing": true,
     "name": "#%%\n"
    }
   },
   "outputs": [],
   "source": [
    "# Jupyter Specifics\n",
    "from IPython.display import HTML\n",
    "from ipywidgets.widgets import interact, IntSlider, FloatSlider, Layout\n",
    "\n",
    "style = {'description_width': '100px'}\n",
    "slider_layout = Layout(width='99%')"
   ]
  },
  {
   "cell_type": "code",
   "execution_count": null,
   "metadata": {
    "scrolled": true
   },
   "outputs": [
    {
     "data": {
      "application/vnd.jupyter.widget-view+json": {
       "model_id": "d6d72778e89f4aee9c81edad9daeb55d",
       "version_major": 2,
       "version_minor": 0
      },
      "text/plain": [
       "interactive(children=(IntSlider(value=1, description='initE', layout=Layout(width='99%'), max=100000, style=Sl…"
      ]
     },
     "metadata": {},
     "output_type": "display_data"
    }
   ],
   "source": [
    "from week7_cascade.models import SEIR\n",
    "from week7_cascade.hyperparams import initE, initI, initR, initN, DAYS, BETA, SIGMA, GAMMA, MU\n",
    "seir = SEIR(days=DAYS,\n",
    "            initial_conditions=[\"initE\", \"initI\", \"initR\", \"initN\"],\n",
    "            params=[\"beta\", \"sigma\", \"gamma\"],\n",
    "            initE=initE,\n",
    "            initI=initI,\n",
    "            initR=initR,\n",
    "            initN=initN,\n",
    "            beta=BETA,\n",
    "            sigma=SIGMA,\n",
    "            gamma=GAMMA,\n",
    "            mu=MU)\n",
    "\n",
    "interact(SEIR,\n",
    "         initE=IntSlider(min=0, max=100000, step=1, value=initE, description='initE', style=style,\n",
    "                         layout=slider_layout),\n",
    "         initI=IntSlider(min=0, max=100000, step=10, value=initI, description='initI', style=style,\n",
    "                         layout=slider_layout),\n",
    "         initR=IntSlider(min=0, max=100000, step=10, value=initR, description='initR', style=style,\n",
    "                         layout=slider_layout),\n",
    "         initN=IntSlider(min=0, max=1380000000, step=1000, value=initN, description='initN', style=style,\n",
    "                         layout=slider_layout),\n",
    "         beta=FloatSlider(min=0, max=4, step=0.01, value=BETA, description='Infection rate', style=style,\n",
    "                          layout=slider_layout),\n",
    "         sigma=FloatSlider(min=0, max=4, step=0.01, value=SIGMA, description='Incubation rate', style=style,\n",
    "                           layout=slider_layout),\n",
    "         gamma=FloatSlider(min=0, max=4, step=0.01, value=GAMMA, description='Recovery rate', style=style,\n",
    "                           layout=slider_layout),\n",
    "         days=IntSlider(min=1, max=600, step=7, value=DAYS, description='Days', style=style, layout=slider_layout)\n",
    "         )"
   ]
  },
  {
   "cell_type": "code",
   "execution_count": null,
   "metadata": {},
   "outputs": [],
   "source": []
  }
 ],
 "metadata": {
  "kernelspec": {
   "display_name": "Python 3 (ipykernel)",
   "language": "python",
   "name": "python3"
  },
  "language_info": {
   "codemirror_mode": {
    "name": "ipython",
    "version": 3
   },
   "file_extension": ".py",
   "mimetype": "text/x-python",
   "name": "python",
   "nbconvert_exporter": "python",
   "pygments_lexer": "ipython3",
   "version": "3.8.13"
  }
 },
 "nbformat": 4,
 "nbformat_minor": 1
}