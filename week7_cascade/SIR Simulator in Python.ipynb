{
 "cells": [
  {
   "cell_type": "code",
   "execution_count": 1,
   "metadata": {
    "ExecuteTime": {
     "end_time": "2023-05-07T04:42:54.163267Z",
     "start_time": "2023-05-07T04:42:51.877895Z"
    }
   },
   "outputs": [],
   "source": [
    "import os\n",
    "import sys\n",
    "import matplotlib.pyplot as plt\n",
    "import numpy as np\n",
    "import pandas as pd\n",
    "from scipy.integrate import odeint\n",
    "import plotly.graph_objects as go\n",
    "import plotly.io as pio\n",
    "pio.renderers.default = \"notebook\"\n",
    "%matplotlib inline\n",
    "plt.style.use('ggplot')"
   ]
  },
  {
   "cell_type": "code",
   "execution_count": 2,
   "metadata": {},
   "outputs": [],
   "source": [
    "# Jupyter Specifics\n",
    "from IPython.display import HTML\n",
    "from ipywidgets.widgets import interact, IntSlider, FloatSlider, Layout\n",
    "\n",
    "style = {'description_width': '100px'}\n",
    "slider_layout = Layout(width='99%')"
   ]
  },
  {
   "cell_type": "code",
   "execution_count": 3,
   "metadata": {},
   "outputs": [],
   "source": [
    "def ode_model(z, t, beta, sigma):\n",
    "    \"\"\"\n",
    "    Reference https://www.idmod.org/docs/hiv/model-seir.html\n",
    "    \"\"\"\n",
    "    S, I, R = z\n",
    "    N = S + I + R\n",
    "    dSdt = -beta * S * I / N\n",
    "    dIdt = beta * S * I / N - sigma * I\n",
    "    dRdt = sigma * I\n",
    "    return [dSdt, dIdt, dRdt]"
   ]
  },
  {
   "cell_type": "code",
   "execution_count": 4,
   "metadata": {},
   "outputs": [],
   "source": [
    "def ode_solver(t, initial_conditions, params):\n",
    "    initI, initR, initN = initial_conditions\n",
    "    beta, sigma = params\n",
    "    initS = initN - (initI + initR)\n",
    "    res = odeint(ode_model, [initS, initI, initR], t, args=(beta, sigma))\n",
    "    return res"
   ]
  },
  {
   "cell_type": "code",
   "execution_count": 5,
   "metadata": {},
   "outputs": [],
   "source": [
    "# ref: https://www.medrxiv.org/content/10.1101/2020.04.01.20049825v1.full.pdf\n",
    "initN = 1380000000\n",
    "# S0 = 966000000\n",
    "initE = 1\n",
    "initI = 1\n",
    "initR = 0\n",
    "sigma = 1/5.2\n",
    "gamma = 1/2.9\n",
    "R0 = 4\n",
    "beta = R0 * gamma\n",
    "days = 150"
   ]
  },
  {
   "cell_type": "code",
   "execution_count": 6,
   "metadata": {},
   "outputs": [],
   "source": [
    "from sklearn.metrics import r2_score\n",
    "from week7_cascade.dataloader import korea_df\n",
    "\n",
    "from week7_cascade.dataloader import us_df\n",
    "\n",
    "from week7_cascade.dataloader import uk_df\n",
    "\n",
    "from week7_cascade.dataloader import global_df\n",
    "\n",
    "real_range = [0, 300]\n",
    "\n",
    "def main(initI, initR, initN, beta, sigma, days):\n",
    "    initial_conditions = [initI, initR, initN]\n",
    "    params = [beta, sigma]\n",
    "    tspan = np.arange(0, days, 1)\n",
    "    sol = ode_solver(tspan, initial_conditions, params)\n",
    "    S, I, R = sol[:, 0], sol[:, 1], sol[:, 2]\n",
    "    \n",
    "    # Create traces\n",
    "    fig = go.Figure()\n",
    "#     fig.add_trace(go.Scatter(x=tspan, y=S, mode='lines+markers', name='Susceptible'))\n",
    "#     fig.add_trace(go.Scatter(x=tspan, y=E, mode='lines+markers', name='Exposed'))\n",
    "    fig.add_trace(go.Scatter(x=tspan, y=I, mode='lines+markers', name='Infected'))\n",
    "#     fig.add_trace(go.Scatter(x=tspan, y=R, mode='lines+markers',name='Recovered'))\n",
    "\n",
    "    country = \"global\"\n",
    "\n",
    "    country_df = {\n",
    "        \"korea\": korea_df,\n",
    "        \"us\": us_df,\n",
    "        \"uk\": uk_df,\n",
    "        \"global\": global_df\n",
    "    }[country]\n",
    "    real_data = (country_df[\"Confirmed\"] - (country_df[\"Recovered\"] + country_df[\"Deaths\"])).values\n",
    "#     real_data = country_df[\"Confirmed\"].values\n",
    "    real_data = real_data[real_range[0]: real_range[1]]\n",
    "    base = real_data[0]\n",
    "    real_data -= base\n",
    "    fig.add_trace(go.Scatter(x=tspan, y=real_data, mode='lines+markers', name=\"real\"))\n",
    "    if days <= 30:\n",
    "        step = 1\n",
    "    elif days <= 90:\n",
    "        step = 7\n",
    "    else:\n",
    "        step = 30\n",
    "\n",
    "    r2 = r2_score(real_data, I)\n",
    "\n",
    "    # Edit the layout\n",
    "    fig.update_layout(title=f'SIR {country} (r2: {round(r2, 3)}, date: {real_range}, N: {initN}, b: {beta}, s: {sigma}',\n",
    "                       xaxis_title='Day',\n",
    "                       yaxis_title='Counts',\n",
    "                       title_x=0.5,\n",
    "                      width=900, height=600\n",
    "                     )\n",
    "    fig.update_xaxes(tickangle=-90, tickformat = None, tickmode='array', tickvals=np.arange(0, days + 1, step))\n",
    "    if not os.path.exists(\"images\"):\n",
    "        os.mkdir(\"images\")\n",
    "    fig.write_image(\"images/sir_simulation.png\")\n",
    "    fig.show()"
   ]
  },
  {
   "cell_type": "code",
   "execution_count": 9,
   "metadata": {
    "scrolled": false
   },
   "outputs": [],
   "source": [
    "\n",
    "interact(main, initI=IntSlider(min=1, max=100000, step=10, value=initI, description='initI', style=style, layout=slider_layout),\n",
    "               initR=IntSlider(min=0, max=100000, step=10, value=initR, description='initR', style=style, layout=slider_layout),\n",
    "               initN=IntSlider(min=0, max=13800000, step=100, value=initN, description='initN', style=style, layout=slider_layout),\n",
    "               beta=FloatSlider(min=0, max=4, step=0.01, value=beta, description='Infection rate', style=style, layout=slider_layout),\n",
    "               sigma=FloatSlider(min=0, max=4, step=0.01, value=sigma, description='Incubation rate', style=style, layout=slider_layout),\n",
    "               days=IntSlider(min=1, max=10000, step=1, value=real_range[1] - real_range[0], description='Days', style=style, layout=slider_layout)\n",
    "        );"
   ]
  },
  {
   "cell_type": "markdown",
   "metadata": {},
   "source": [
    "**References:**<br>\n",
    "1. SEIR and SEIRS Model https://www.idmod.org/docs/hiv/model-seir.html<br>\n",
    "2. Compartmental models in epidemiology https://en.wikipedia.org/wiki/Compartmental_models_in_epidemiology#The_SEIR_model<br>\n",
    "3. Solve Differential Equations in Python https://www.youtube.com/watch?v=VV3BnroVjZo<br>\n",
    "4. Computational Statistics in Python https://people.duke.edu/~ccc14/sta-663/CalibratingODEs.html<br>\n",
    "5. Ordinary Differential Equations (ODE) with Python and Jupyter https://elc.github.io/posts/ordinary-differential-equations-with-python/<br>\n",
    "6. SEIRS+ Model https://github.com/ryansmcgee/seirsplus<br>\n",
    "7. Stack Overflow https://stackoverflow.com/questions/40753159/why-is-scipy-minimize-ignoring-my-constraints<br>\n",
    "8. Lotka–Volterra equations https://en.wikipedia.org/wiki/Lotka%E2%80%93Volterra_equations<br>\n",
    "9. SEIR and Regression Model based COVID-19 outbreak predictions in India https://www.medrxiv.org/content/10.1101/2020.04.01.20049825v1.full.pdf<br>\n",
    "\n",
    "A simulator built with RShiny which provides many more parameters https://alhill.shinyapps.io/COVID19seir/"
   ]
  },
  {
   "cell_type": "code",
   "execution_count": null,
   "metadata": {},
   "outputs": [],
   "source": []
  },
  {
   "cell_type": "code",
   "execution_count": null,
   "metadata": {},
   "outputs": [],
   "source": []
  },
  {
   "cell_type": "code",
   "execution_count": null,
   "metadata": {},
   "outputs": [],
   "source": []
  },
  {
   "cell_type": "code",
   "execution_count": null,
   "metadata": {},
   "outputs": [],
   "source": []
  }
 ],
 "metadata": {
  "kernelspec": {
   "display_name": "Python 3 (ipykernel)",
   "language": "python",
   "name": "python3"
  },
  "language_info": {
   "codemirror_mode": {
    "name": "ipython",
    "version": 3
   },
   "file_extension": ".py",
   "mimetype": "text/x-python",
   "name": "python",
   "nbconvert_exporter": "python",
   "pygments_lexer": "ipython3",
   "version": "3.8.13"
  }
 },
 "nbformat": 4,
 "nbformat_minor": 4
}
