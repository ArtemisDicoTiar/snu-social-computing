{
 "cells": [
  {
   "cell_type": "code",
   "execution_count": 44,
   "outputs": [],
   "source": [
    "import json\n",
    "from typing import Dict\n",
    "import orjson\n",
    "\n",
    "from utils import DATA_DIR\n",
    "\n",
    "with (DATA_DIR / \"애플페이.json\").open() as f:\n",
    "    statuses = json.loads(f.read())"
   ],
   "metadata": {
    "collapsed": false,
    "pycharm": {
     "name": "#%%\n"
    }
   }
  },
  {
   "cell_type": "markdown",
   "source": [
    "## Observe specification of one record"
   ],
   "metadata": {
    "collapsed": false,
    "pycharm": {
     "name": "#%% md\n"
    }
   }
  },
  {
   "cell_type": "code",
   "execution_count": 45,
   "outputs": [
    {
     "data": {
      "text/plain": "1100"
     },
     "execution_count": 45,
     "metadata": {},
     "output_type": "execute_result"
    }
   ],
   "source": [
    "len(statuses)"
   ],
   "metadata": {
    "collapsed": false,
    "pycharm": {
     "name": "#%%\n"
    }
   }
  },
  {
   "cell_type": "code",
   "execution_count": 46,
   "outputs": [
    {
     "data": {
      "text/plain": "{'created_at': 'Wed Mar 15 05:40:38 +0000 2023',\n 'id': 1635878651093983233,\n 'id_str': '1635878651093983233',\n 'text': '아직 아이폰에 카드 등록 안되는데? 프로그램 패치 나올지? 애플페이 21일 국내 서비스 개시...편의점 등에서 가능 / YTN https://t.co/0UVrD7F2Dm',\n 'truncated': False,\n 'entities': {'hashtags': [],\n  'symbols': [],\n  'user_mentions': [],\n  'urls': [{'url': 'https://t.co/0UVrD7F2Dm',\n    'expanded_url': 'https://www.msn.com/ko-kr/news/other/%EC%95%A0%ED%94%8C%ED%8E%98%EC%9D%B4-21%EC%9D%BC-%EA%B5%AD%EB%82%B4-%EC%84%9C%EB%B9%84%EC%8A%A4-%EA%B0%9C%EC%8B%9C-%ED%8E%B8%EC%9D%98%EC%A0%90-%EB%93%B1%EC%97%90%EC%84%9C-%EA%B0%80%EB%8A%A5-ytn/vi-AA18Ca8Z?ocid=msedgntp&cvid=e60bf52783b94ecd90cacd815802978e&ei=14',\n    'display_url': 'msn.com/ko-kr/news/oth…',\n    'indices': [71, 94]}]},\n 'metadata': {'result_type': 'recent', 'iso_language_code': 'ko'},\n 'source': '<a href=\"https://mobile.twitter.com\" rel=\"nofollow\">Twitter Web App</a>',\n 'in_reply_to_status_id': None,\n 'in_reply_to_status_id_str': None,\n 'in_reply_to_user_id': None,\n 'in_reply_to_user_id_str': None,\n 'in_reply_to_screen_name': None,\n 'user': {'id': 845493558,\n  'id_str': '845493558',\n  'name': '초우',\n  'screen_name': 'chdn1004',\n  'location': '',\n  'description': '',\n  'url': None,\n  'entities': {'description': {'urls': []}},\n  'protected': False,\n  'followers_count': 38,\n  'friends_count': 39,\n  'listed_count': 0,\n  'created_at': 'Tue Sep 25 13:10:12 +0000 2012',\n  'favourites_count': 0,\n  'utc_offset': None,\n  'time_zone': None,\n  'geo_enabled': False,\n  'verified': False,\n  'statuses_count': 5960,\n  'lang': None,\n  'contributors_enabled': False,\n  'is_translator': False,\n  'is_translation_enabled': False,\n  'profile_background_color': 'C0DEED',\n  'profile_background_image_url': 'http://abs.twimg.com/images/themes/theme1/bg.png',\n  'profile_background_image_url_https': 'https://abs.twimg.com/images/themes/theme1/bg.png',\n  'profile_background_tile': False,\n  'profile_image_url': 'http://pbs.twimg.com/profile_images/2648250647/bc5dbfbc518d258503ba4c718367f425_normal.jpeg',\n  'profile_image_url_https': 'https://pbs.twimg.com/profile_images/2648250647/bc5dbfbc518d258503ba4c718367f425_normal.jpeg',\n  'profile_link_color': '1DA1F2',\n  'profile_sidebar_border_color': 'C0DEED',\n  'profile_sidebar_fill_color': 'DDEEF6',\n  'profile_text_color': '333333',\n  'profile_use_background_image': True,\n  'has_extended_profile': False,\n  'default_profile': True,\n  'default_profile_image': False,\n  'following': False,\n  'follow_request_sent': False,\n  'notifications': False,\n  'translator_type': 'none',\n  'withheld_in_countries': []},\n 'geo': None,\n 'coordinates': None,\n 'place': None,\n 'contributors': None,\n 'is_quote_status': False,\n 'retweet_count': 0,\n 'favorite_count': 0,\n 'favorited': False,\n 'retweeted': False,\n 'possibly_sensitive': False,\n 'lang': 'ko'}"
     },
     "execution_count": 46,
     "metadata": {},
     "output_type": "execute_result"
    }
   ],
   "source": [
    "statuses[0]"
   ],
   "metadata": {
    "collapsed": false,
    "pycharm": {
     "name": "#%%\n"
    }
   }
  },
  {
   "cell_type": "code",
   "execution_count": 47,
   "outputs": [
    {
     "data": {
      "text/plain": "dict_keys(['created_at', 'id', 'id_str', 'text', 'truncated', 'entities', 'metadata', 'source', 'in_reply_to_status_id', 'in_reply_to_status_id_str', 'in_reply_to_user_id', 'in_reply_to_user_id_str', 'in_reply_to_screen_name', 'user', 'geo', 'coordinates', 'place', 'contributors', 'is_quote_status', 'retweet_count', 'favorite_count', 'favorited', 'retweeted', 'possibly_sensitive', 'lang'])"
     },
     "execution_count": 47,
     "metadata": {},
     "output_type": "execute_result"
    }
   ],
   "source": [
    "statuses[0].keys()"
   ],
   "metadata": {
    "collapsed": false,
    "pycharm": {
     "name": "#%%\n"
    }
   }
  },
  {
   "cell_type": "code",
   "execution_count": 48,
   "outputs": [
    {
     "data": {
      "text/plain": "{'created_at': 'Wed Mar 15 05:40:38 +0000 2023',\n 'id': 1635878651093983233,\n 'id_str': '1635878651093983233',\n 'text': '아직 아이폰에 카드 등록 안되는데? 프로그램 패치 나올지? 애플페이 21일 국내 서비스 개시...편의점 등에서 가능 / YTN https://t.co/0UVrD7F2Dm',\n 'truncated': False,\n 'entities': {'hashtags': [],\n  'symbols': [],\n  'user_mentions': [],\n  'urls': [{'url': 'https://t.co/0UVrD7F2Dm',\n    'expanded_url': 'https://www.msn.com/ko-kr/news/other/%EC%95%A0%ED%94%8C%ED%8E%98%EC%9D%B4-21%EC%9D%BC-%EA%B5%AD%EB%82%B4-%EC%84%9C%EB%B9%84%EC%8A%A4-%EA%B0%9C%EC%8B%9C-%ED%8E%B8%EC%9D%98%EC%A0%90-%EB%93%B1%EC%97%90%EC%84%9C-%EA%B0%80%EB%8A%A5-ytn/vi-AA18Ca8Z?ocid=msedgntp&cvid=e60bf52783b94ecd90cacd815802978e&ei=14',\n    'display_url': 'msn.com/ko-kr/news/oth…',\n    'indices': [71, 94]}]},\n 'metadata': {'result_type': 'recent', 'iso_language_code': 'ko'},\n 'source': '<a href=\"https://mobile.twitter.com\" rel=\"nofollow\">Twitter Web App</a>',\n 'in_reply_to_status_id': None,\n 'in_reply_to_status_id_str': None,\n 'in_reply_to_user_id': None,\n 'in_reply_to_user_id_str': None,\n 'in_reply_to_screen_name': None,\n 'user': {'id': 845493558,\n  'id_str': '845493558',\n  'name': '초우',\n  'screen_name': 'chdn1004',\n  'location': '',\n  'description': '',\n  'url': None,\n  'entities': {'description': {'urls': []}},\n  'protected': False,\n  'followers_count': 38,\n  'friends_count': 39,\n  'listed_count': 0,\n  'created_at': 'Tue Sep 25 13:10:12 +0000 2012',\n  'favourites_count': 0,\n  'utc_offset': None,\n  'time_zone': None,\n  'geo_enabled': False,\n  'verified': False,\n  'statuses_count': 5960,\n  'lang': None,\n  'contributors_enabled': False,\n  'is_translator': False,\n  'is_translation_enabled': False,\n  'profile_background_color': 'C0DEED',\n  'profile_background_image_url': 'http://abs.twimg.com/images/themes/theme1/bg.png',\n  'profile_background_image_url_https': 'https://abs.twimg.com/images/themes/theme1/bg.png',\n  'profile_background_tile': False,\n  'profile_image_url': 'http://pbs.twimg.com/profile_images/2648250647/bc5dbfbc518d258503ba4c718367f425_normal.jpeg',\n  'profile_image_url_https': 'https://pbs.twimg.com/profile_images/2648250647/bc5dbfbc518d258503ba4c718367f425_normal.jpeg',\n  'profile_link_color': '1DA1F2',\n  'profile_sidebar_border_color': 'C0DEED',\n  'profile_sidebar_fill_color': 'DDEEF6',\n  'profile_text_color': '333333',\n  'profile_use_background_image': True,\n  'has_extended_profile': False,\n  'default_profile': True,\n  'default_profile_image': False,\n  'following': False,\n  'follow_request_sent': False,\n  'notifications': False,\n  'translator_type': 'none',\n  'withheld_in_countries': []},\n 'geo': None,\n 'coordinates': None,\n 'place': None,\n 'contributors': None,\n 'is_quote_status': False,\n 'retweet_count': 0,\n 'favorite_count': 0,\n 'favorited': False,\n 'retweeted': False,\n 'possibly_sensitive': False,\n 'lang': 'ko'}"
     },
     "execution_count": 48,
     "metadata": {},
     "output_type": "execute_result"
    }
   ],
   "source": [
    "statuses[0]"
   ],
   "metadata": {
    "collapsed": false,
    "pycharm": {
     "name": "#%%\n"
    }
   }
  },
  {
   "cell_type": "markdown",
   "source": [
    "Analyse contents"
   ],
   "metadata": {
    "collapsed": false,
    "pycharm": {
     "name": "#%% md\n"
    }
   }
  },
  {
   "cell_type": "code",
   "execution_count": 49,
   "outputs": [
    {
     "data": {
      "text/plain": "'아직 아이폰에 카드 등록 안되는데? 프로그램 패치 나올지? 애플페이 21일 국내 서비스 개시...편의점 등에서 가능 / YTN https://t.co/0UVrD7F2Dm'"
     },
     "execution_count": 49,
     "metadata": {},
     "output_type": "execute_result"
    }
   ],
   "source": [
    "# text\n",
    "statuses[0]['text']"
   ],
   "metadata": {
    "collapsed": false,
    "pycharm": {
     "name": "#%%\n"
    }
   }
  },
  {
   "cell_type": "code",
   "execution_count": 51,
   "outputs": [
    {
     "name": "stdout",
     "output_type": "stream",
     "text": [
      "{'created_at': 'Wed Mar 15 05:40:38 +0000 2023', 'id': 1635878651093983233, 'id_str': '1635878651093983233', 'text': '아직 아이폰에 카드 등록 안되는데? 프로그램 패치 나올지? 애플페이 21일 국내 서비스 개시...편의점 등에서 가능 / YTN https://t.co/0UVrD7F2Dm', 'truncated': False, 'entities': {'hashtags': [], 'symbols': [], 'user_mentions': [], 'urls': [{'url': 'https://t.co/0UVrD7F2Dm', 'expanded_url': 'https://www.msn.com/ko-kr/news/other/%EC%95%A0%ED%94%8C%ED%8E%98%EC%9D%B4-21%EC%9D%BC-%EA%B5%AD%EB%82%B4-%EC%84%9C%EB%B9%84%EC%8A%A4-%EA%B0%9C%EC%8B%9C-%ED%8E%B8%EC%9D%98%EC%A0%90-%EB%93%B1%EC%97%90%EC%84%9C-%EA%B0%80%EB%8A%A5-ytn/vi-AA18Ca8Z?ocid=msedgntp&cvid=e60bf52783b94ecd90cacd815802978e&ei=14', 'display_url': 'msn.com/ko-kr/news/oth…', 'indices': [71, 94]}]}, 'metadata': {'result_type': 'recent', 'iso_language_code': 'ko'}, 'source': '<a href=\"https://mobile.twitter.com\" rel=\"nofollow\">Twitter Web App</a>', 'in_reply_to_status_id': None, 'in_reply_to_status_id_str': None, 'in_reply_to_user_id': None, 'in_reply_to_user_id_str': None, 'in_reply_to_screen_name': None, 'user': {'id': 845493558, 'id_str': '845493558', 'name': '초우', 'screen_name': 'chdn1004', 'location': '', 'description': '', 'url': None, 'entities': {'description': {'urls': []}}, 'protected': False, 'followers_count': 38, 'friends_count': 39, 'listed_count': 0, 'created_at': 'Tue Sep 25 13:10:12 +0000 2012', 'favourites_count': 0, 'utc_offset': None, 'time_zone': None, 'geo_enabled': False, 'verified': False, 'statuses_count': 5960, 'lang': None, 'contributors_enabled': False, 'is_translator': False, 'is_translation_enabled': False, 'profile_background_color': 'C0DEED', 'profile_background_image_url': 'http://abs.twimg.com/images/themes/theme1/bg.png', 'profile_background_image_url_https': 'https://abs.twimg.com/images/themes/theme1/bg.png', 'profile_background_tile': False, 'profile_image_url': 'http://pbs.twimg.com/profile_images/2648250647/bc5dbfbc518d258503ba4c718367f425_normal.jpeg', 'profile_image_url_https': 'https://pbs.twimg.com/profile_images/2648250647/bc5dbfbc518d258503ba4c718367f425_normal.jpeg', 'profile_link_color': '1DA1F2', 'profile_sidebar_border_color': 'C0DEED', 'profile_sidebar_fill_color': 'DDEEF6', 'profile_text_color': '333333', 'profile_use_background_image': True, 'has_extended_profile': False, 'default_profile': True, 'default_profile_image': False, 'following': False, 'follow_request_sent': False, 'notifications': False, 'translator_type': 'none', 'withheld_in_countries': []}, 'geo': None, 'coordinates': None, 'place': None, 'contributors': None, 'is_quote_status': False, 'retweet_count': 0, 'favorite_count': 0, 'favorited': False, 'retweeted': False, 'possibly_sensitive': False, 'lang': 'ko'}\n",
      "\n",
      "{'id': 845493558, 'id_str': '845493558', 'name': '초우', 'screen_name': 'chdn1004', 'location': '', 'description': '', 'url': None, 'entities': {'description': {'urls': []}}, 'protected': False, 'followers_count': 38, 'friends_count': 39, 'listed_count': 0, 'created_at': 'Tue Sep 25 13:10:12 +0000 2012', 'favourites_count': 0, 'utc_offset': None, 'time_zone': None, 'geo_enabled': False, 'verified': False, 'statuses_count': 5960, 'lang': None, 'contributors_enabled': False, 'is_translator': False, 'is_translation_enabled': False, 'profile_background_color': 'C0DEED', 'profile_background_image_url': 'http://abs.twimg.com/images/themes/theme1/bg.png', 'profile_background_image_url_https': 'https://abs.twimg.com/images/themes/theme1/bg.png', 'profile_background_tile': False, 'profile_image_url': 'http://pbs.twimg.com/profile_images/2648250647/bc5dbfbc518d258503ba4c718367f425_normal.jpeg', 'profile_image_url_https': 'https://pbs.twimg.com/profile_images/2648250647/bc5dbfbc518d258503ba4c718367f425_normal.jpeg', 'profile_link_color': '1DA1F2', 'profile_sidebar_border_color': 'C0DEED', 'profile_sidebar_fill_color': 'DDEEF6', 'profile_text_color': '333333', 'profile_use_background_image': True, 'has_extended_profile': False, 'default_profile': True, 'default_profile_image': False, 'following': False, 'follow_request_sent': False, 'notifications': False, 'translator_type': 'none', 'withheld_in_countries': []}\n",
      "\n",
      "chdn1004\n"
     ]
    }
   ],
   "source": [
    "# screen name\n",
    "print(statuses[0])\n",
    "print()\n",
    "print(statuses[0]['user'])\n",
    "print()\n",
    "print(statuses[0]['user']['screen_name'])"
   ],
   "metadata": {
    "collapsed": false,
    "pycharm": {
     "name": "#%%\n"
    }
   }
  },
  {
   "cell_type": "code",
   "execution_count": null,
   "outputs": [],
   "source": [],
   "metadata": {
    "collapsed": false,
    "pycharm": {
     "name": "#%%\n"
    }
   }
  }
 ],
 "metadata": {
  "kernelspec": {
   "display_name": "Python 3",
   "language": "python",
   "name": "python3"
  },
  "language_info": {
   "codemirror_mode": {
    "name": "ipython",
    "version": 2
   },
   "file_extension": ".py",
   "mimetype": "text/x-python",
   "name": "python",
   "nbconvert_exporter": "python",
   "pygments_lexer": "ipython2",
   "version": "2.7.6"
  }
 },
 "nbformat": 4,
 "nbformat_minor": 0
}